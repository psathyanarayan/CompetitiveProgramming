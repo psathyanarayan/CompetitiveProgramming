{
  "nbformat": 4,
  "nbformat_minor": 0,
  "metadata": {
    "colab": {
      "name": "1st.ipynb",
      "provenance": [],
      "authorship_tag": "ABX9TyPN5IEATN0OKS8zKosWiNcc",
      "include_colab_link": true
    },
    "kernelspec": {
      "name": "python3",
      "display_name": "Python 3"
    }
  },
  "cells": [
    {
      "cell_type": "markdown",
      "metadata": {
        "id": "view-in-github",
        "colab_type": "text"
      },
      "source": [
        "<a href=\"https://colab.research.google.com/github/psathyanarayan/CompetitiveProgramming/blob/master/1st.ipynb\" target=\"_parent\"><img src=\"https://colab.research.google.com/assets/colab-badge.svg\" alt=\"Open In Colab\"/></a>"
      ]
    },
    {
      "cell_type": "code",
      "metadata": {
        "id": "RpK36rEyx7YZ",
        "colab_type": "code",
        "colab": {
          "base_uri": "https://localhost:8080/",
          "height": 54
        },
        "outputId": "079f847e-f40c-43f3-f590-9e35c7e2a204"
      },
      "source": [
        "for num in range(1,101):\n",
        "    if num % 3 == 0:\n",
        "        print(\"Fizz\",end=\" \")\n",
        "    elif num % 5 == 0:\n",
        "        print(\"Buzz\",end=\" \")\n",
        "    else:\n",
        "        print(num,end=\" \")"
      ],
      "execution_count": null,
      "outputs": [
        {
          "output_type": "stream",
          "text": [
            "1 2 Fizz 4 Buzz Fizz 7 8 Fizz Buzz 11 Fizz 13 14 Fizz 16 17 Fizz 19 Buzz Fizz 22 23 Fizz Buzz 26 Fizz 28 29 Fizz 31 32 Fizz 34 Buzz Fizz 37 38 Fizz Buzz 41 Fizz 43 44 Fizz 46 47 Fizz 49 Buzz Fizz 52 53 Fizz Buzz 56 Fizz 58 59 Fizz 61 62 Fizz 64 Buzz Fizz 67 68 Fizz Buzz 71 Fizz 73 74 Fizz 76 77 Fizz 79 Buzz Fizz 82 83 Fizz Buzz 86 Fizz 88 89 Fizz 91 92 Fizz 94 Buzz Fizz 97 98 Fizz Buzz "
          ],
          "name": "stdout"
        }
      ]
    },
    {
      "cell_type": "code",
      "metadata": {
        "id": "wAdIcR5lybUs",
        "colab_type": "code",
        "colab": {
          "base_uri": "https://localhost:8080/",
          "height": 68
        },
        "outputId": "937342d5-1e69-4ebd-cbef-6eed18cabb40"
      },
      "source": [
        "N = int(input())\n",
        "num = str(input())\n",
        "n = [i for i in num.split()]\n",
        "if len(n) == N:\n",
        "  for j in n:\n",
        "    if int(j)%5 ==0 :\n",
        "      print(\"Buzz\",end=\" \")\n",
        "    elif int(j)%4 ==0 :\n",
        "      print(\"Fizz\",end=\" \")\n",
        "    elif int(j)%11 ==0 :\n",
        "      print(\"Plop\",end=\" \")  \n",
        "    else:\n",
        "      print(int(j),end=\" \")  "
      ],
      "execution_count": null,
      "outputs": [
        {
          "output_type": "stream",
          "text": [
            "3\n",
            "2 4 7 \n",
            "2 Fizz 7 "
          ],
          "name": "stdout"
        }
      ]
    }
  ]
}